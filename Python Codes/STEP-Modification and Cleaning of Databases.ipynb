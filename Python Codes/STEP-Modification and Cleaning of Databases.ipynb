{
 "cells": [
  {
   "cell_type": "code",
   "execution_count": 3,
   "id": "74209b6e",
   "metadata": {},
   "outputs": [],
   "source": [
    "## libreries needed\n",
    "import pandas as pd\n",
    "import geopandas as gpd\n",
    "import pandas as pd\n",
    "import shapely as shape\n",
    "import os\n",
    "import fiona\n",
    "import sqlite3"
   ]
  },
  {
   "cell_type": "code",
   "execution_count": 2,
   "id": "1b1e304a",
   "metadata": {},
   "outputs": [],
   "source": [
    "# Functions used in the analysis\n",
    "def CreateGDF_Points (puntos, names=[\"Latitud\",\"Longitud\"]):\n",
    "    \"\"\" need a df with the coordenates in two columns\n",
    "    imput dataframe, and the names of Longitud and Latitud\n",
    "    output \"\"\"\n",
    "    geometria=[]\n",
    "    for e in range(0,len(puntos)):\n",
    "        datum=puntos[puntos.index==e][[names[0], names[1]]]\n",
    "        punto=shape.Point(datum[names[1]], datum[names[0]])\n",
    "        geometria.append(punto)\n",
    "    puntos[\"geometry\"]=geometria\n",
    "    puntos=gpd.GeoDataFrame(puntos, crs=\"EPSG:4326\")\n",
    "    return (puntos)"
   ]
  },
  {
   "cell_type": "code",
   "execution_count": 3,
   "id": "fd5b8a1b",
   "metadata": {},
   "outputs": [],
   "source": [
    "def see_tables(conexion):\n",
    "    cursor=conexion.cursor()\n",
    "    query=\"\"\"SELECT name FROM sqlite_master WHERE type='table';\"\"\"\n",
    "    cursor.execute(query)\n",
    "    return [ e[0] for e in cursor.fetchall()]"
   ]
  },
  {
   "cell_type": "code",
   "execution_count": 4,
   "id": "7be85ae0",
   "metadata": {},
   "outputs": [],
   "source": [
    "def ver_tabla (name):\n",
    "    \"\"\" funcion para poder llamar a una de las tablas en formato df. necesita el nombre de la tabla entre comillas\"\"\"\n",
    "    sql_query=f\"SELECT * FROM {name}\"\n",
    "    df1 = pd.read_sql_query(sql_query, conexion)\n",
    "    return df1"
   ]
  },
  {
   "cell_type": "markdown",
   "id": "24c46e3f",
   "metadata": {},
   "source": [
    "# Cleaning of the La Plata Museo DataBase"
   ]
  },
  {
   "cell_type": "code",
   "execution_count": 3,
   "id": "8903aff2",
   "metadata": {},
   "outputs": [],
   "source": [
    "### paths needed of the DataBase of the Museum\n",
    "path_data_base_museo=\"D:\\00013-Tesis_Doctoral\\2- Base de datos\\Coreidae_A.xlsx\""
   ]
  },
  {
   "cell_type": "code",
   "execution_count": 4,
   "id": "58eeb18c",
   "metadata": {},
   "outputs": [],
   "source": [
    "### Open tables\n",
    "t1=pd.read_excel(path_data_base_museo, sheet_name=\"Hoja1\") ## they have the same headings\n",
    "t2=pd.read_excel(path_data_base_museo, sheet_name=\"Hoja2\") ## This have the same igut"
   ]
  },
  {
   "cell_type": "code",
   "execution_count": 11,
   "id": "55571e28",
   "metadata": {},
   "outputs": [],
   "source": [
    "### corrected table 1\n",
    "# concat the colums to make the shape of localities studied \" first: second, add\"\n",
    "t1[\"Locality\"] = t1[\"State\"]+\": \"+t1[\"Locality_wname\"] # join two columns with the locality name\n",
    "t1[\"Species\"] = t1[\"Genus\"]+\" \"+t1[\"Species\"] # join the columns of genus and Species to have the column with the species name"
   ]
  },
  {
   "cell_type": "code",
   "execution_count": 35,
   "id": "8f2473b1",
   "metadata": {},
   "outputs": [],
   "source": [
    "### merge two tables with the necessary information\n",
    "total= pd.concat([t1,t2], axis=0)"
   ]
  },
  {
   "cell_type": "code",
   "execution_count": 37,
   "id": "7827cdbe",
   "metadata": {},
   "outputs": [],
   "source": [
    "## delet the data that do not have identified species\n",
    "total=total[total[\"Family\"].notna()]\n",
    "total=total[total[\"Species\"].notna()]\n",
    "total=total.fillna(\"\")"
   ]
  },
  {
   "cell_type": "code",
   "execution_count": 72,
   "id": "370ca93e",
   "metadata": {},
   "outputs": [],
   "source": [
    "### eliminamos cells duplicadas with the same information in each one\n",
    "total = total.drop_duplicates()"
   ]
  },
  {
   "cell_type": "code",
   "execution_count": 76,
   "id": "a1831a6e",
   "metadata": {},
   "outputs": [],
   "source": [
    "# Save the information in a excel\n",
    "total[total[\"Family\"]==\"Coreidae\"].to_excel(\"Coreidae_Museo_la_plata.xlsx\")"
   ]
  },
  {
   "cell_type": "markdown",
   "id": "f6f8540d",
   "metadata": {},
   "source": [
    "# Add Country in a dataframe with points"
   ]
  },
  {
   "cell_type": "code",
   "execution_count": 4,
   "id": "62c00e69",
   "metadata": {},
   "outputs": [],
   "source": [
    "# Open the layer with the country of the world and the points records\n",
    "path=\"D:/000033_GIS/Paises_Mundo.shp\"\n",
    "puntos=\"D:/00013-Tesis_Doctoral/2- Base de datos/Panstrongylus geniculatus.xlsx\"\n",
    "puntos_n=puntos\n",
    "names_l=[\"Latitud\",\"Longitud\"]\n",
    "puntos=pd.read_excel(puntos)\n",
    "paises_shp=gpd.read_file(path)"
   ]
  },
  {
   "cell_type": "code",
   "execution_count": 6,
   "id": "a2b02c38",
   "metadata": {},
   "outputs": [],
   "source": [
    "# Create points as GeodataFrames and have the countries in the shapefile\n",
    "puntos=CreateGDF_Points(puntos, names_l)\n",
    "puntos=puntos.sjoin(paises_shp, how=\"inner\", predicate='intersects')"
   ]
  },
  {
   "cell_type": "code",
   "execution_count": 9,
   "id": "1e952896",
   "metadata": {},
   "outputs": [],
   "source": [
    "# rewrite the archive with the points\n",
    "puntos.to_excel(puntos_n)"
   ]
  },
  {
   "cell_type": "markdown",
   "id": "605d6b0f",
   "metadata": {},
   "source": [
    "# Uniformize with a specific name each archive used and drop duplicates"
   ]
  },
  {
   "cell_type": "code",
   "execution_count": 14,
   "id": "e271514f",
   "metadata": {},
   "outputs": [],
   "source": [
    "# Open folder with the databases of each species\n",
    "folder=\"D:/00013-Tesis_Doctoral/2- Base de datos/Species/Coreidae_AD\"\n",
    "#create a diccionary with the names to change of each column\n",
    "diccionary_change={'genus': 'Genus', \n",
    "                   'Especie': 'Species',\n",
    "                   \"Pais\":\"Country\",\n",
    "                   'PAÍS':'Country', \n",
    "                   \"Note\":\"Notes\", \n",
    "                   \"Genero\":\"Genus\",  \n",
    "                   \"Notas\":\"Notes\",\n",
    "                   \"Note\":\"Notes\",\n",
    "                   \"Latitud\":\"Latitude\", \n",
    "                   \"Longitud\":\"Longitude\",\n",
    "                   \"Localidad\":\"Locality\",\n",
    "                   \"Pais\":\"Country\",\n",
    "                   \"Año\": \"Year\",\n",
    "                  \"Autor\":\"Reference\",\n",
    "                  \"Author\":\"Reference\",\n",
    "                  \"Unnamed: 8\":\"Notes\"}"
   ]
  },
  {
   "cell_type": "code",
   "execution_count": 15,
   "id": "42058718",
   "metadata": {},
   "outputs": [],
   "source": [
    "# using os explore all the archives of the folder\n",
    "files = os.walk(folder)\n",
    "for root, dirs, files in files:\n",
    "    for name in files:\n",
    "        file_excel=os.path.join(root, name) # obtein the nales of the path of each file seen in the folder\n",
    "        #print(file_excel) # print to see with folder I am working on\n",
    "        table=pd.read_excel(file_excel)\n",
    "        table = table.rename(columns=diccionary_change)\n",
    "        coordenadas=table\n",
    "        coordenadas= coordenadas.drop_duplicates() # drop duplicates seened\n",
    "        coordenadas.to_excel(file_excel, index=False) # replace the archive with the changes requires\n",
    "        #coordenadas.drop([\"Unnamed: 0\"], axis=0)\n",
    "        "
   ]
  },
  {
   "cell_type": "markdown",
   "id": "f81258f7",
   "metadata": {},
   "source": [
    "# Join the Museum DataFrame with the species with the same name"
   ]
  },
  {
   "cell_type": "code",
   "execution_count": null,
   "id": "821a1049",
   "metadata": {},
   "outputs": [],
   "source": [
    "# Open the folder with the information of the museum and open the path with the folder with each archive separated\n",
    "puntos=\"D:/00013-Tesis_Doctoral/2- Base de datos/Species/Coreidae_Museo_la_plata.xlsx\"\n",
    "folder=\"D:/00013-Tesis_Doctoral/2- Base de datos/Species/Coreidae_AD\"\n",
    "puntos=pd.read_excel(puntos)"
   ]
  },
  {
   "cell_type": "code",
   "execution_count": null,
   "id": "f04295b3",
   "metadata": {},
   "outputs": [],
   "source": [
    "for root, dirs, files in os.walk (folder):\n",
    "    for name in files:\n",
    "        file_excel=os.path.join(root, name) # obtein the path of each archive in the folder\n",
    "        table=pd.read_excel(file_excel) # open the table as a dataframe\n",
    "        if name in puntos.Species.unique()+\".xlsx\": # Look if the name is listed in the species of the list of the museum\n",
    "            name_sele=name[:-5]\n",
    "            selected=puntos[puntos.Species==name_sele] # select the name\n",
    "            puntos=puntos[puntos.Species!=name_sele]\n",
    "            table=pd.concat([table, selected], axis=0) # concat both tables\n",
    "        table.drop_duplicates() # drop duplicates\n",
    "        table.to_excel(file_excel, index=False) # replace the archive with the information"
   ]
  },
  {
   "cell_type": "code",
   "execution_count": null,
   "id": "a07d6dab",
   "metadata": {},
   "outputs": [],
   "source": [
    "# save the escel of the La Plata Museum no studied in the records and not in bibiliography revised\n",
    "puntos.to_excel(\"D:/00013-Tesis_Doctoral/2- Base de datos/Species/Coreidae_Museo_la_plata_no_archive.xlsx\")"
   ]
  },
  {
   "cell_type": "markdown",
   "id": "38f4bda7",
   "metadata": {},
   "source": [
    "# Make a column with the political division of each archive to be revised and analysed"
   ]
  },
  {
   "cell_type": "code",
   "execution_count": 17,
   "id": "15fdd43a",
   "metadata": {},
   "outputs": [],
   "source": [
    "# open the layer with the politicas division in each lavel and read as a geodataframe\n",
    "Level=\"D:/000033_GIS/political division/Level2.shp\"\n",
    "countries_gdf = gpd.read_file(Level) # the countries at level 2\n",
    "# select the columns that will be added to the archive\n",
    "countries_gdf=countries_gdf[[\"COUNTRY\", \"NAME_1\", \"NAME_2\", \"geometry\"]] #### select names of each one\n",
    "# create the way that will be shown the names of the locality\n",
    "countries_gdf[\"Political Division\"]=countries_gdf[\"COUNTRY\"]+\": \"+countries_gdf[\"NAME_1\"]+\", \"+countries_gdf[\"NAME_2\"]"
   ]
  },
  {
   "cell_type": "code",
   "execution_count": 34,
   "id": "1f3f2f1a",
   "metadata": {},
   "outputs": [],
   "source": [
    "# folder with the databases of each especie\n",
    "folder=\"D:/00013-Tesis_Doctoral/2- Base de datos/Species/Coreidae_AD/Fal\"\n",
    "# names of the columns with the coordenades\n",
    "coor_names=[\"Latitude\", \"Longitude\"]"
   ]
  },
  {
   "cell_type": "code",
   "execution_count": null,
   "id": "f82a34e0",
   "metadata": {},
   "outputs": [],
   "source": [
    "datum=puntos[puntos.index==e][[coor_names[0], coornames[1]]]"
   ]
  },
  {
   "cell_type": "code",
   "execution_count": null,
   "id": "0c16f37a",
   "metadata": {},
   "outputs": [],
   "source": [
    "for root, dirs, files in os.walk (folder):\n",
    "    for name in files:\n",
    "        file_excel=os.path.join(root, name)\n",
    "        print(file_excel)\n",
    "        puntos=pd.read_excel(file_excel) # open the table\n",
    "        #add the geometry to each species\n",
    "        geometria=[]\n",
    "        for e in range(0,len(puntos)):\n",
    "            try:\n",
    "                datum=puntos[puntos.index==e][[coor_names[0], coor_names[1]]]\n",
    "                punto=shape.Point(datum[coor_names[1]], datum[coor_names[0]])\n",
    "                geometria.append(punto)\n",
    "            except Exception as e:\n",
    "                geometria.append(\"Revise not found\")\n",
    "        puntos[\"geometry\"]=geometria\n",
    "        puntos=gpd.GeoDataFrame(puntos)\n",
    "        # with sjoin drop all the entries with coordinates not recognized\n",
    "        puntos=puntos.sjoin(countries_gdf , how=\"inner\", predicate='intersects')\n",
    "        puntos.drop([\"COUNTRY\", \"NAME_1\", \"NAME_2\", \"geometry\"], axis=1)\n",
    "        puntos.to_excel(file_excel, index=False)"
   ]
  },
  {
   "cell_type": "markdown",
   "id": "c3073b1b",
   "metadata": {},
   "source": [
    "# Put the final_species_name"
   ]
  },
  {
   "cell_type": "code",
   "execution_count": 4,
   "id": "dae67549",
   "metadata": {},
   "outputs": [],
   "source": [
    "folder=\"D:/00013-Tesis_Doctoral/2- Base de datos/Species/Coreidae\""
   ]
  },
  {
   "cell_type": "code",
   "execution_count": null,
   "id": "4c57b2c5",
   "metadata": {},
   "outputs": [],
   "source": [
    "for root, dirs, files in os.walk (folder):\n",
    "    for name in files:\n",
    "        file_excel=os.path.join(root, name)\n",
    "        index=name.split(\".xlsx\")[0]\n",
    "        puntos=pd.read_excel(file_excel) # open the table\n",
    "        puntos[\"Species_F\"]=index\n",
    "        puntos.to_excel(file_excel, index=False)"
   ]
  },
  {
   "cell_type": "markdown",
   "id": "8407bc90",
   "metadata": {},
   "source": [
    "# Create a DB Archive with the information obtained"
   ]
  },
  {
   "cell_type": "code",
   "execution_count": 5,
   "id": "2de8bde2",
   "metadata": {},
   "outputs": [],
   "source": [
    "# path the archive of Database in Sqlite to the archive\n",
    "conexion=sqlite3.connect(\"bd_chinches.db\")\n",
    "# open the folder with the archives with the ocurrences of each species\n",
    "file=\"D:/00013-Tesis_Doctoral/2- Base de datos/Species/Coreidae\""
   ]
  },
  {
   "cell_type": "code",
   "execution_count": 6,
   "id": "2074f81a",
   "metadata": {},
   "outputs": [],
   "source": [
    "# join all the tables of the species studied\n",
    "Coreidea_final=pd.DataFrame() # create a df clean\n",
    "files=os.listdir(file) # list the folder where we save the information needed\n",
    "for e in files:\n",
    "    path_gen=f\"{file}/{e}\"\n",
    "    data=pd.read_excel(path_gen)\n",
    "    Coreidea_final= pd.concat([Coreidea_final, data])\n",
    "name=\"Records_per_species\"\n",
    "Coreidea_final.to_sql(name,conexion,if_exists='replace',index=False)\n",
    "conexion.commit()"
   ]
  },
  {
   "cell_type": "code",
   "execution_count": 7,
   "id": "c3afc422",
   "metadata": {},
   "outputs": [],
   "source": [
    "Coreidea_final=Coreidea_final.reset_index(drop=True)\n",
    "#save the information as csv separated by tabulation\n",
    "Coreidea_final.to_csv(\"Records_per_species_coreidae.csv\",sep=\"\\t\", index=False)"
   ]
  },
  {
   "cell_type": "markdown",
   "id": "52ca8cd3",
   "metadata": {},
   "source": [
    "# Create the general DB_to used"
   ]
  },
  {
   "cell_type": "code",
   "execution_count": 8,
   "id": "30090e2c",
   "metadata": {},
   "outputs": [],
   "source": [
    "General_DB=pd.DataFrame({\"Species_name\":Coreidea_final.Species_F.unique(), \"Family\":\"Coreidae\"})"
   ]
  },
  {
   "cell_type": "code",
   "execution_count": 9,
   "id": "611949f8",
   "metadata": {},
   "outputs": [],
   "source": [
    "General_DB.to_excel(\"General_DB_Coreidae.xlsx\", index=False)"
   ]
  },
  {
   "cell_type": "code",
   "execution_count": 10,
   "id": "71c9b226",
   "metadata": {},
   "outputs": [
    {
     "data": {
      "text/html": [
       "<div>\n",
       "<style scoped>\n",
       "    .dataframe tbody tr th:only-of-type {\n",
       "        vertical-align: middle;\n",
       "    }\n",
       "\n",
       "    .dataframe tbody tr th {\n",
       "        vertical-align: top;\n",
       "    }\n",
       "\n",
       "    .dataframe thead th {\n",
       "        text-align: right;\n",
       "    }\n",
       "</style>\n",
       "<table border=\"1\" class=\"dataframe\">\n",
       "  <thead>\n",
       "    <tr style=\"text-align: right;\">\n",
       "      <th></th>\n",
       "      <th>Species_name</th>\n",
       "      <th>Family</th>\n",
       "    </tr>\n",
       "  </thead>\n",
       "  <tbody>\n",
       "    <tr>\n",
       "      <th>0</th>\n",
       "      <td>Acanonicus hahni</td>\n",
       "      <td>Coreidae</td>\n",
       "    </tr>\n",
       "    <tr>\n",
       "      <th>1</th>\n",
       "      <td>Acanonicus riojana</td>\n",
       "      <td>Coreidae</td>\n",
       "    </tr>\n",
       "    <tr>\n",
       "      <th>2</th>\n",
       "      <td>Acanthocephala femorata</td>\n",
       "      <td>Coreidae</td>\n",
       "    </tr>\n",
       "    <tr>\n",
       "      <th>3</th>\n",
       "      <td>Acanthocephala surata</td>\n",
       "      <td>Coreidae</td>\n",
       "    </tr>\n",
       "    <tr>\n",
       "      <th>4</th>\n",
       "      <td>Acidomeria cincticornis</td>\n",
       "      <td>Coreidae</td>\n",
       "    </tr>\n",
       "    <tr>\n",
       "      <th>...</th>\n",
       "      <td>...</td>\n",
       "      <td>...</td>\n",
       "    </tr>\n",
       "    <tr>\n",
       "      <th>122</th>\n",
       "      <td>Zicca annulata</td>\n",
       "      <td>Coreidae</td>\n",
       "    </tr>\n",
       "    <tr>\n",
       "      <th>123</th>\n",
       "      <td>Zicca cornuta</td>\n",
       "      <td>Coreidae</td>\n",
       "    </tr>\n",
       "    <tr>\n",
       "      <th>124</th>\n",
       "      <td>Zicca nigropunctata</td>\n",
       "      <td>Coreidae</td>\n",
       "    </tr>\n",
       "    <tr>\n",
       "      <th>125</th>\n",
       "      <td>Zicca stali</td>\n",
       "      <td>Coreidae</td>\n",
       "    </tr>\n",
       "    <tr>\n",
       "      <th>126</th>\n",
       "      <td>Zoreva dentipes</td>\n",
       "      <td>Coreidae</td>\n",
       "    </tr>\n",
       "  </tbody>\n",
       "</table>\n",
       "<p>127 rows × 2 columns</p>\n",
       "</div>"
      ],
      "text/plain": [
       "                Species_name    Family\n",
       "0           Acanonicus hahni  Coreidae\n",
       "1         Acanonicus riojana  Coreidae\n",
       "2    Acanthocephala femorata  Coreidae\n",
       "3      Acanthocephala surata  Coreidae\n",
       "4    Acidomeria cincticornis  Coreidae\n",
       "..                       ...       ...\n",
       "122           Zicca annulata  Coreidae\n",
       "123            Zicca cornuta  Coreidae\n",
       "124      Zicca nigropunctata  Coreidae\n",
       "125              Zicca stali  Coreidae\n",
       "126          Zoreva dentipes  Coreidae\n",
       "\n",
       "[127 rows x 2 columns]"
      ]
     },
     "execution_count": 10,
     "metadata": {},
     "output_type": "execute_result"
    }
   ],
   "source": [
    "General_DB"
   ]
  }
 ],
 "metadata": {
  "kernelspec": {
   "display_name": "Python 3 (ipykernel)",
   "language": "python",
   "name": "python3"
  },
  "language_info": {
   "codemirror_mode": {
    "name": "ipython",
    "version": 3
   },
   "file_extension": ".py",
   "mimetype": "text/x-python",
   "name": "python",
   "nbconvert_exporter": "python",
   "pygments_lexer": "ipython3",
   "version": "3.11.3"
  }
 },
 "nbformat": 4,
 "nbformat_minor": 5
}
