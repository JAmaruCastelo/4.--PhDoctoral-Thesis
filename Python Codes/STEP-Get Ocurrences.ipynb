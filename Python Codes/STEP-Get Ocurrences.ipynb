{
 "cells": [
  {
   "cell_type": "code",
   "execution_count": 1,
   "id": "1e6c1634",
   "metadata": {},
   "outputs": [
    {
     "name": "stderr",
     "output_type": "stream",
     "text": [
      "INFO:NumExpr defaulting to 4 threads.\n"
     ]
    }
   ],
   "source": [
    "# Packages used\n",
    "import pygbif as gbif\n",
    "import pyinaturalist as pyna\n",
    "import geopandas as gpd\n",
    "import pandas as pd\n",
    "import math\n",
    "from shapely.geometry import Polygon"
   ]
  },
  {
   "cell_type": "code",
   "execution_count": 24,
   "id": "4d053481",
   "metadata": {},
   "outputs": [],
   "source": [
    "# functions\n",
    "def obtain_inat (taxon_id_r, nelat=0, nelng=0, swlat=0, swlng=0, bounding_box=True):\n",
    "    \n",
    "    nuevo_final=pd.DataFrame()\n",
    "    \n",
    "    if bounding_box==True:\n",
    "        a= pyna.v1.observations.get_observations(taxon_id=taxon_id_r, \n",
    "                                                 page=1, per_page=200, \n",
    "                                                 geo=True,\n",
    "                                                 nelat=nelat,nelng=neln,\n",
    "                                                 swlat=swlat,swlng=swlng)\n",
    "    else:\n",
    "        a= pyna.v1.observations.get_observations(taxon_id=924150, page=1, per_page=200, geo=True,\n",
    "                                                 quality_grade='research', verifiable=True)\n",
    "    si=int(a['total_results']/a['per_page']) ## como solo imprime por pagina 200 se itera hasta conseguir todas las paginas disponibles\n",
    "    for e in range(si+1):\n",
    "            if bounding_box==True:\n",
    "                a= pyna.v1.observations.get_observations(taxon_id=taxon_id_r,\n",
    "                                                         page=e+1, per_page=200,\n",
    "                                                         geo=True,\n",
    "                                                         nelat=nelat,nelng=neln,\n",
    "                                                         swlat=swlat,swlng=swlng)\n",
    "            else:\n",
    "                a= pyna.v1.observations.get_observations(taxon_id=taxon_id_r, page=1, per_page=200, geo=True,\n",
    "                                                         quality_grade='research', verifiable=True)\n",
    "            nuevo=pd.DataFrame()\n",
    "            for elemento in a['results']:\n",
    "                name=elemento['taxon']['name']\n",
    "                latitud=elemento['location'][0]\n",
    "                longitud=elemento['location'][1]\n",
    "                place=elemento['place_guess']\n",
    "                final=pd.DataFrame({\"name\":[name], \"latitud\": [latitud],\n",
    "                                   \"longitud\": [longitud], \"place\":[place]})\n",
    "                nuevo=pd.concat([nuevo, final])\n",
    "            nuevo_final=pd.concat([nuevo,nuevo_final])\n",
    "    nuevo_final.columns = ['species', 'decimalLatitude', 'decimalLongitude', 'stateProvince']\n",
    "    return nuevo_final"
   ]
  },
  {
   "cell_type": "code",
   "execution_count": 13,
   "id": "7b02046d",
   "metadata": {},
   "outputs": [],
   "source": [
    "def obtain_gbif (especie):\n",
    "    ocurrences=gbif.occurrences.search(scientificName=especie, limit= 300,hasCoordinate=True, basisOfRecord=[\"MATERIAL_CITATION\",\n",
    "                                                                                                             \"PRESERVED_SPECIMEN\"])\n",
    "    ##### se necesita solo cambiar el genus key para que pueda ser leido de manera mejorada en la base de datos\n",
    "    x=pd.DataFrame()\n",
    "    for datum in ocurrences['results']:\n",
    "        diccionario={ e: [datum[e]] for e in datum.keys() }\n",
    "        data=pd.DataFrame(diccionario)\n",
    "        try:\n",
    "            data=data[['genus','species', 'decimalLatitude','decimalLongitude', 'country', 'stateProvince', 'occurrenceID']]\n",
    "        except KeyError:\n",
    "            pass\n",
    "            #data=data[['genus', 'decimalLatitude','decimalLongitude', 'country', 'occurrenceID']]\n",
    "        x=pd.concat([x, data])\n",
    "    return x"
   ]
  },
  {
   "cell_type": "markdown",
   "id": "5866d77e",
   "metadata": {},
   "source": [
    "# List of species Gbif and Inaturalist"
   ]
  },
  {
   "cell_type": "code",
   "execution_count": 3,
   "id": "b818722b",
   "metadata": {},
   "outputs": [],
   "source": [
    "taxon_id_r=61267 ### este es el taxon id de heteroptera\n",
    "nelat=-17.5\n",
    "nelng=-55.5\n",
    "swlat=-34.5\n",
    "swlng=-68.5"
   ]
  },
  {
   "cell_type": "code",
   "execution_count": null,
   "id": "a2990db2",
   "metadata": {},
   "outputs": [],
   "source": [
    "nuevo_final= obtain_inat (taxon_id_r,nelat=nelat,nelng=nelng,swlat=swlat,swlng=swlng, bounding_box=True)\n",
    "lista=[e for e in nuevo_final[\"species\"].unique() if \" \" in e] # this is the list of species in inaturalist"
   ]
  },
  {
   "cell_type": "markdown",
   "id": "8205167f",
   "metadata": {},
   "source": [
    "# Download ocurrences of each species"
   ]
  },
  {
   "cell_type": "code",
   "execution_count": 46,
   "id": "48b8c15f",
   "metadata": {},
   "outputs": [],
   "source": [
    "# para sacar ocurrencias de gbif"
   ]
  },
  {
   "cell_type": "code",
   "execution_count": 22,
   "id": "31943516",
   "metadata": {},
   "outputs": [],
   "source": [
    "especie=\"Panstrongylus megistus\"\n",
    "species_id=924150"
   ]
  },
  {
   "cell_type": "code",
   "execution_count": 14,
   "id": "dba306ba",
   "metadata": {},
   "outputs": [],
   "source": [
    "x= obtain_gbif(especie)\n",
    "nuevo_final=obtain_inat(species_id, bounding_box=False)\n",
    "x[\"Autor\"]=\"gbif\"\n",
    "nuevo_final[\"Autor\"]=\"Inaturalist\""
   ]
  },
  {
   "cell_type": "code",
   "execution_count": 15,
   "id": "2a16fb07",
   "metadata": {},
   "outputs": [],
   "source": [
    "if len(x)>0: # solo cuando se recupera alguna especie con ese nombre\n",
    "    if \"stateProvince\" in x.keys():\n",
    "        x=x[['genus', 'species', 'decimalLatitude','decimalLongitude',\"stateProvince\",\"country\",\"Autor\"]]\n",
    "    if \"stateProvince\" not in x.keys():\n",
    "        x=x[['genus', 'species', 'decimalLatitude','decimalLongitude',\"country\",\"Autor\"]] # muchas veces en gbif no hay state province"
   ]
  },
  {
   "cell_type": "code",
   "execution_count": 33,
   "id": "520a1bc5",
   "metadata": {},
   "outputs": [],
   "source": [
    "final=pd.concat([x,nuevo_final])"
   ]
  },
  {
   "cell_type": "code",
   "execution_count": 34,
   "id": "9920789d",
   "metadata": {},
   "outputs": [],
   "source": [
    "# Rename to could be used in posterior analysis\n",
    "final = final.rename(columns={'species':'Especie',\n",
    "                              'decimalLatitude':'Latitud',\n",
    "                              \"decimalLongitude\":\"Longitud\",\n",
    "                              \"stateProvince\":\"Localidad\",\n",
    "                                \"country\":\"Pais\"})"
   ]
  },
  {
   "cell_type": "code",
   "execution_count": 35,
   "id": "4485c0dc",
   "metadata": {},
   "outputs": [],
   "source": [
    "if len(final)>0: # solo cuando se recupera alguna especie con ese nombre\n",
    "    if \"Pais\" in final.keys():\n",
    "        final=final[['genus', 'Especie', 'Latitud',\"Longitud\",\"Localidad\",\"Pais\",\"Autor\"]]\n",
    "    if \"Pais\" not in x.keys():\n",
    "        final=final[[ 'Especie', 'Latitud',\"Longitud\",\"Localidad\",\"Autor\"]]"
   ]
  },
  {
   "cell_type": "code",
   "execution_count": 36,
   "id": "b287a536",
   "metadata": {},
   "outputs": [],
   "source": [
    "# add the year of search of the information and drop duplicates to make easier to see\n",
    "final[\"Año\"]=2024\n",
    "final = final.drop_duplicates()"
   ]
  },
  {
   "cell_type": "code",
   "execution_count": 87,
   "id": "1a0661af",
   "metadata": {},
   "outputs": [],
   "source": [
    "final.to_excel(paste(especie, \".xlsx\", sep=\"\")"
   ]
  }
 ],
 "metadata": {
  "kernelspec": {
   "display_name": "Python 3 (ipykernel)",
   "language": "python",
   "name": "python3"
  },
  "language_info": {
   "codemirror_mode": {
    "name": "ipython",
    "version": 3
   },
   "file_extension": ".py",
   "mimetype": "text/x-python",
   "name": "python",
   "nbconvert_exporter": "python",
   "pygments_lexer": "ipython3",
   "version": "3.11.3"
  }
 },
 "nbformat": 4,
 "nbformat_minor": 5
}
